{
 "cells": [
  {
   "cell_type": "code",
   "execution_count": 405,
   "metadata": {},
   "outputs": [],
   "source": [
    "import numpy as np\n",
    "import pandas as pd\n",
    "import linecache\n",
    "import ctypes"
   ]
  },
  {
   "cell_type": "code",
   "execution_count": 406,
   "metadata": {},
   "outputs": [],
   "source": [
    "class Newnode :\n",
    "    def __init__(self):\n",
    "        self.key = -1 \n",
    "        self.concept =\" \"\n",
    "        self.neigh = []\n",
    "        self.relation_w_n = []\n",
    "        self.skills = []"
   ]
  },
  {
   "cell_type": "code",
   "execution_count": 407,
   "metadata": {},
   "outputs": [],
   "source": [
    "def createnode(key,concept,skills,neighbours,relations):\n",
    "    node = Newnode()\n",
    "    node.key = key\n",
    "    node.concept = concept\n",
    "    node.neigh = neighbours\n",
    "    node.skills = skills\n",
    "    node.relation_w_n = relations\n",
    "    return node"
   ]
  },
  {
   "cell_type": "code",
   "execution_count": 408,
   "metadata": {},
   "outputs": [],
   "source": [
    "def update(key,key_node,relatives,relations):\n",
    "    for i in range(len(relatives)):\n",
    "        key_node[relatives[i]].neigh.append(key)\n",
    "        key_node[relatives[i]].relation_w_n.append(-relations[i])"
   ]
  },
  {
   "cell_type": "code",
   "execution_count": 409,
   "metadata": {},
   "outputs": [],
   "source": [
    "def printnode(n):\n",
    "    #l = open(\"output.txt\",'r').readlines()\n",
    "    #node_printing = l[n+1].split()\n",
    "    print(\"The concept is \",key_node[n].concept)\n",
    "    neighbours = []\n",
    "    for i in range(len(key_node[n].neigh)) :\n",
    "        neighbours.append(key_node[key_node[n].neigh[i]].concept)\n",
    "    print(\"The neighbours are \" + str(neighbours))\n",
    "    relations = []\n",
    "    for i in range(len(key_node[n].relation_w_n)) :\n",
    "        relations.append(key_node[n].relation_w_n[i])\n",
    "    print(\"The relation with neighnours are \" + str(relations))\n",
    "    print(\"The skills of this concept is \"+ str(key_node[n].skills))"
   ]
  },
  {
   "cell_type": "code",
   "execution_count": 410,
   "metadata": {},
   "outputs": [],
   "source": [
    "def deletenode(n,key_node,all_relations_for_graph,G):\n",
    "    G.remove_node(n)\n",
    "    all_relations_for_graph = G.edges()\n",
    "    key_node[n]=\"Deleted\"\n",
    "    lines = open(\"output.txt\",'r').readlines()\n",
    "    lines[n-1] = str(n) + \" Deleted\\n\" \n",
    "    out = open(\"output.txt\",'w')\n",
    "    out.writelines(lines)\n",
    "    out.close()\n",
    "    return key_node, all_relations_for_graph, G"
   ]
  },
  {
   "cell_type": "code",
   "execution_count": 411,
   "metadata": {},
   "outputs": [],
   "source": [
    "def editnode(n,concept,skills,neighbours,relations,G,H,all_relations_for_graph):\n",
    "    key_node[n].concept = concept\n",
    "    key_node[n].skills = skills\n",
    "    key_node[n].neigh = neighbours\n",
    "    key_node[n].relations_w_n = relations\n",
    "    G.remove_node(n)\n",
    "    H.add_node(n)\n",
    "    H.add_nodes_from(G.nodes())\n",
    "    H.add_edges_from(G.edges())\n",
    "    a = []\n",
    "    for i in range(len(neighbours)):\n",
    "        a.append((n,neighbours[i]))\n",
    "    H.add_edges_from(a)\n",
    "    del G\n",
    "    return H,all_relations_for_graph"
   ]
  },
  {
   "cell_type": "code",
   "execution_count": 412,
   "metadata": {},
   "outputs": [],
   "source": [
    "def bfs_traversal(G,root) :\n",
    "    edges = nx.bfs_edges(G, root)\n",
    "    nodes = [root] + [v for u, v in edges]\n",
    "    return nodes\n"
   ]
  },
  {
   "cell_type": "code",
   "execution_count": 413,
   "metadata": {},
   "outputs": [],
   "source": [
    "def get_levels(key_node):\n",
    "    levels= {}\n",
    "    levels[1] = 1\n",
    "    for a in range(2,len(key_node)):\n",
    "        b = key_node[a].relation_w_n[0]\n",
    "        c = key_node[a].neigh[0]\n",
    "        if(b==1):\n",
    "            levels[a] = levels[c] + 1\n",
    "        if(b==0):\n",
    "            levels[a]=levels[c]\n",
    "    return levels"
   ]
  },
  {
   "cell_type": "code",
   "execution_count": 414,
   "metadata": {},
   "outputs": [],
   "source": [
    "def get_paths_util(u, d, visited, path,final_paths):\n",
    "    visited[u]=True\n",
    "    path.append(u)\n",
    "    lines = open(\"output.txt\",'r').readlines()\n",
    "    u_node = (ctypes.cast(int(lines[u-1][2:-1]), ctypes.py_object).value)\n",
    "    d_node=(ctypes.cast(int(lines[d-1][2:-1]), ctypes.py_object).value)\n",
    "    if(u == d):\n",
    "        #print(path)\n",
    "        final_paths.append(np.array(path.copy()))\n",
    "        path.pop()\n",
    "        visited[u]=False\n",
    "        return final_paths\n",
    "        \n",
    "    else :\n",
    "        for i in u_node.neigh:\n",
    "            #print(i)\n",
    "            if(visited[i]==False) :\n",
    "                final_paths = get_paths_util(i,d,visited,path,final_paths)\n",
    "    path.pop()\n",
    "    visited[u]=False\n",
    "    return final_paths\n"
   ]
  },
  {
   "cell_type": "code",
   "execution_count": 415,
   "metadata": {},
   "outputs": [],
   "source": [
    "def get_paths(s,d):\n",
    "    lines = open(\"output.txt\",'r').readlines()\n",
    "    s_node = (ctypes.cast(int(lines[s-1][2:-1]), ctypes.py_object).value)\n",
    "    d_node =(ctypes.cast(int(lines[d-1][2:-1]), ctypes.py_object).value)\n",
    "    visited = [False]*(len(lines)+1)\n",
    "    path = []\n",
    "    final_paths = []\n",
    "    final_paths = get_paths_util(s,d,visited,path,final_paths)\n",
    "    return np.array(final_paths)"
   ]
  },
  {
   "cell_type": "code",
   "execution_count": 416,
   "metadata": {},
   "outputs": [],
   "source": [
    "def get_shortest_path_util(path,student_ability,threshold):\n",
    "    i = path[0]\n",
    "    result = []\n",
    "    difficulty = 0\n",
    "    student_ability = np.array(student_ability)\n",
    "    for j in path[1:-1]:\n",
    "        lines = open(\"output.txt\",'r').readlines()\n",
    "        j_node_skills = np.array((ctypes.cast(int(lines[j-1][2:-1]), ctypes.py_object).value).skills)\n",
    "        difference = np.sum(j_node_skills-student_ability)\n",
    "        if(difference>threshold):\n",
    "            result.append(j)\n",
    "            difficulty = difference+difficulty\n",
    "            student_ability = student_ability + 0.5*np.multiply(((student_ability-j_node_skills)>0),j_node_skills)\n",
    "    result.append(path[len(path)-1])\n",
    "    return result,difficulty"
   ]
  },
  {
   "cell_type": "code",
   "execution_count": 417,
   "metadata": {},
   "outputs": [],
   "source": [
    "out_file = open(\"output.txt\",'a+')\n",
    "concept_data= open(\"Concepts_data.txt\",\"r\")\n",
    "lines  = concept_data.readlines()\n",
    "lines=[x.strip() for x in lines]\n",
    "key_node = {}\n",
    "all_relations_for_graph = []"
   ]
  },
  {
   "cell_type": "code",
   "execution_count": 418,
   "metadata": {},
   "outputs": [],
   "source": [
    "#taking input from concepts file \n",
    "for i in range(int(len(lines)/5)) :\n",
    "    key = int(lines[5*i])\n",
    "    concept = lines[5*i+1]\n",
    "    skills = lines[5*i+2].split()\n",
    "    neigh = lines[5*i+3].split()\n",
    "    relation = lines[5*i+4].split()\n",
    "    s = []\n",
    "    n = []\n",
    "    r = []\n",
    "    for j in range(len(skills)) :\n",
    "        s.append(float(skills[j]))\n",
    "    if(neigh[0]!=\"-\"):\n",
    "        for j in range(len(neigh)):\n",
    "            n.append(int(neigh[j]))\n",
    "            r.append(int(relation[j]))\n",
    "            all_relations_for_graph.append((key,int(neigh[j])))\n",
    "    node = createnode(key,concept,s,n,r)\n",
    "    key_node[key] = node\n",
    "    update(key,key_node,n,r)"
   ]
  },
  {
   "cell_type": "code",
   "execution_count": 419,
   "metadata": {},
   "outputs": [],
   "source": [
    "#key_node"
   ]
  },
  {
   "cell_type": "code",
   "execution_count": 420,
   "metadata": {},
   "outputs": [],
   "source": [
    "def getkeys_asarray(dict):\n",
    "    return [*dict]\n",
    "a = getkeys_asarray(key_node)\n"
   ]
  },
  {
   "cell_type": "code",
   "execution_count": 421,
   "metadata": {},
   "outputs": [],
   "source": [
    "for i in range(len(a)):\n",
    "    out_file.write(str(a[i])+\" \"+str(id(key_node[a[i]]))+\"\\n\")\n",
    "out_file.close()"
   ]
  },
  {
   "cell_type": "code",
   "execution_count": 422,
   "metadata": {},
   "outputs": [],
   "source": [
    "import networkx as nx\n",
    "import matplotlib.pyplot as plt\n",
    "G=nx.Graph()"
   ]
  },
  {
   "cell_type": "code",
   "execution_count": 423,
   "metadata": {},
   "outputs": [],
   "source": [
    "relations = np.array(all_relations_for_graph)"
   ]
  },
  {
   "cell_type": "code",
   "execution_count": 424,
   "metadata": {},
   "outputs": [
    {
     "data": {
      "text/plain": [
       "2"
      ]
     },
     "execution_count": 424,
     "metadata": {},
     "output_type": "execute_result"
    }
   ],
   "source": [
    "relations.shape[1]"
   ]
  },
  {
   "cell_type": "code",
   "execution_count": 425,
   "metadata": {},
   "outputs": [
    {
     "data": {
      "text/plain": [
       "array([[ 2,  1],\n",
       "       [ 3,  1],\n",
       "       [ 4,  1],\n",
       "       [ 5,  2],\n",
       "       [ 5,  3],\n",
       "       [ 6,  2],\n",
       "       [ 7,  4],\n",
       "       [ 8,  5],\n",
       "       [ 8,  7],\n",
       "       [ 9,  6],\n",
       "       [ 9,  5],\n",
       "       [ 9,  7],\n",
       "       [10,  7],\n",
       "       [11,  8],\n",
       "       [11,  9],\n",
       "       [12,  8],\n",
       "       [12, 10],\n",
       "       [13,  9],\n",
       "       [14, 11],\n",
       "       [14, 12],\n",
       "       [14, 13],\n",
       "       [15, 11],\n",
       "       [15, 12],\n",
       "       [16, 12],\n",
       "       [17, 11],\n",
       "       [17, 13],\n",
       "       [18, 17],\n",
       "       [19, 17],\n",
       "       [19, 14],\n",
       "       [19, 15],\n",
       "       [20, 15],\n",
       "       [20, 16],\n",
       "       [21, 19],\n",
       "       [21, 20]])"
      ]
     },
     "execution_count": 425,
     "metadata": {},
     "output_type": "execute_result"
    }
   ],
   "source": [
    "relations"
   ]
  },
  {
   "cell_type": "code",
   "execution_count": 426,
   "metadata": {},
   "outputs": [
    {
     "data": {
      "image/png": "[encoded data removed]",
      "text/plain": [
       "<Figure size 432x288 with 1 Axes>"
      ]
     },
     "metadata": {},
     "output_type": "display_data"
    }
   ],
   "source": [
    "# adding just one node:\n",
    "G.add_node(1)\n",
    "# a list of nodes:\n",
    "G.add_nodes_from(key_node.keys())\n",
    "G.add_edges_from(all_relations_for_graph)\n",
    "nx.draw(G)"
   ]
  },
  {
   "cell_type": "code",
   "execution_count": 427,
   "metadata": {},
   "outputs": [
    {
     "name": "stdout",
     "output_type": "stream",
     "text": [
      "The concept is  Problem on KM\n",
      "The neighbours are ['Defining centimeter', 'Defining KiloMeter']\n",
      "The relation with neighnours are [1, 1]\n",
      "The skills of this concept is [0.5, 0.2, 0.3, 0.4]\n"
     ]
    }
   ],
   "source": [
    "#using printnode\n",
    "printnode(21)"
   ]
  },
  {
   "cell_type": "code",
   "execution_count": 428,
   "metadata": {},
   "outputs": [],
   "source": [
    "lo_with_concept = np.random.randint(1,21,size=11)"
   ]
  },
  {
   "cell_type": "code",
   "execution_count": 429,
   "metadata": {},
   "outputs": [],
   "source": [
    "def get_prob(theta,a,b,c):\n",
    "    prob = c + (1-c)/(1 + np.exp(np.dot(a,b) - np.dot(a,theta)))\n",
    "    return prob\n",
    "    "
   ]
  },
  {
   "cell_type": "code",
   "execution_count": 430,
   "metadata": {},
   "outputs": [],
   "source": [
    "def get_asc(key):\n",
    "    n = relations.shape[0] - 1\n",
    "    key = np.array([key])\n",
    "    while(n >= 0):\n",
    "        if(relations[n,0] in key):\n",
    "            if(not(relations[n,1] in key)) : key = np.append(key,relations[n,1])\n",
    "        n = n-1 \n",
    "    if(len(key)==0):\n",
    "        return NULL\n",
    "    key = key[1:]\n",
    "    return key\n"
   ]
  },
  {
   "cell_type": "code",
   "execution_count": 431,
   "metadata": {},
   "outputs": [],
   "source": [
    "def get_P_value(s_id,arr,a,b,c):\n",
    "    p = []\n",
    "    for i in arr:\n",
    "        p.append(get_prob(int(theta[s_id-1]),a[i-1],b[i-1],c[s_id,i-1]))\n",
    "    return np.array(p)\n",
    "        "
   ]
  },
  {
   "cell_type": "code",
   "execution_count": 432,
   "metadata": {},
   "outputs": [],
   "source": [
    "def get_good_ascendants(asc,s_res):\n",
    "    size = asc.shape[0]\n",
    "    final = []\n",
    "    while(size>0) :\n",
    "        out = np.array(get_asc(asc[size-1]))\n",
    "        size1 = out.shape[0]\n",
    "        if(size1 == 0) : \n",
    "            final.append(asc[size-1]) \n",
    "            size-=1   \n",
    "            continue\n",
    "        if not(out[size1-1] in np.array(final)) : final.append(out[0])\n",
    "        while(size1>0):\n",
    "            if(s_res[out[size1-1]] == 0):\n",
    "                break\n",
    "            if(size1==1):\n",
    "                final.append(asc[size-1])\n",
    "            size1 = size1 - 1\n",
    "        size = size-1\n",
    "    return final"
   ]
  },
  {
   "cell_type": "code",
   "execution_count": 433,
   "metadata": {},
   "outputs": [],
   "source": [
    "data = pd.read_excel(\"data.xlsx\")   # getting the response of 35 students for 35 items\n",
    "difficulty = 1/(data.sum(0) + 1)   # data.sum gives the number of students attempted correctly each question"
   ]
  },
  {
   "cell_type": "code",
   "execution_count": 434,
   "metadata": {},
   "outputs": [],
   "source": [
    "#defining the probability parameters\n",
    "k = 10               # for number of interactions in step 7\n",
    "n_students  = 35\n",
    "n_items = 20\n",
    "last_interaction  = 21\n",
    "a_differ = np.random.rand(n_items+1)    #this parameters depends on how an item can differentiate bw student's ability\n",
    "b_difficulty = difficulty[0:n_items+1]       #this parameter depends on the difficulty of the item\n",
    "c_guess = np.random.rand(n_students,n_items+1)/2     #this is an array containing guess probability of each student for each item\n",
    "theta = (np.random.rand(n_students,1)*8 - 4)  #taking theta(student ability) from -4 to 4 "
   ]
  },
  {
   "cell_type": "code",
   "execution_count": 435,
   "metadata": {},
   "outputs": [],
   "source": [
    "#for student 1 setting student Id\n",
    "s = 1\n",
    "#step 3  - take all first attemps in order (taking first 20 exercises)(for student s = 1)\n",
    "s_response = np.array(data)[s-1][0:20]"
   ]
  },
  {
   "cell_type": "code",
   "execution_count": 436,
   "metadata": {},
   "outputs": [
    {
     "name": "stdout",
     "output_type": "stream",
     "text": [
      "As the student have correctly solved an instance of item no. 21 so he knows the concept to solve at least an instance of all the ascendants of this item, all its ascendants are [20 19 16 15 14 17 13 11 12  9 10  8  7  5  6  4  2  3  1]\n"
     ]
    }
   ],
   "source": [
    "#step 4  - next student attempt is taken\n",
    "next_attempt = np.array(data)[0][20]\n",
    "#step 5\n",
    "if(next_attempt == 1):\n",
    "    proof = get_asc(21)\n",
    "    print(\"As the student have correctly solved an instance of item no. 21 so he knows the concept to solve at least an instance of all the ascendants of this item, all its ascendants are \" + str(proof))\n"
   ]
  },
  {
   "cell_type": "code",
   "execution_count": 437,
   "metadata": {},
   "outputs": [],
   "source": [
    "#step 7 , taking one-last interaction\n",
    "u  = s_response[s_response.shape[0]-k:s_response.shape[0]]\n",
    "u_no = []\n",
    "for i in range(s_response.shape[0]-k+1,s_response.shape[0]+1):\n",
    "    u_no.append(i)\n",
    "u_no= np.array(u_no)\n",
    "response  = np.array(data)[s-1][last_interaction-1]\n",
    "#step 8 and 9\n",
    "if response == 1 :\n",
    "    u = np.append(u,1)\n",
    "    u = u[u.shape[0]-k:u.shape[0]]\n",
    "    u_no = np.append(u_no,last_interaction)\n",
    "    u_no = u_no[u_no.shape[0]-k:u_no.shape[0]]\n",
    "else :\n",
    "    ascendants = get_asc(last_interaction)\n",
    "    a = 1 \n",
    "    for i in ascendants :\n",
    "        if(s_response[i-1]==0): a = 0 \n",
    "    if(a==1) :\n",
    "        u = np.append(u,s_response[last_interaction-1])\n",
    "        u = u[1:]\n",
    "        print(last_interaction)\n",
    "        u_no = np.append(u_no,last_interaction)\n",
    "        u_no = u_no[1:]\n",
    "    else :\n",
    "        good_asc = get_good_ascendants(ascendants,s_response)\n",
    "        h1 = 0 \n",
    "        for i in good_asc :\n",
    "            if(h1<i): h1 = i\n",
    "        u = np.append(u,s_response[h1-1])\n",
    "        u = u[1:]\n",
    "        print(h1)\n",
    "        u_no = np.append(u_no,h1)\n",
    "        u_no = u_no[1:]"
   ]
  },
  {
   "cell_type": "code",
   "execution_count": 438,
   "metadata": {},
   "outputs": [],
   "source": [
    "#step 10\n",
    "theta_new = 1\n",
    "h2 = 0\n",
    "for i in u_no:\n",
    "    p = get_prob(int(theta[s-1]),a_differ[i-1],b_difficulty[i-1],c_guess[s][i-1])\n",
    "    q = 1-p\n",
    "    theta_new = theta_new*pow(p,u[h2])*pow(q,1-u[h2])\n",
    "    h2+=1\n",
    "    k-=1"
   ]
  },
  {
   "cell_type": "code",
   "execution_count": 439,
   "metadata": {},
   "outputs": [
    {
     "data": {
      "text/plain": [
       "0.0017985088249243457"
      ]
     },
     "execution_count": 439,
     "metadata": {},
     "output_type": "execute_result"
    }
   ],
   "source": [
    "theta_new"
   ]
  },
  {
   "cell_type": "code",
   "execution_count": 440,
   "metadata": {},
   "outputs": [],
   "source": [
    "#part two adaptive exercises - starts here"
   ]
  },
  {
   "cell_type": "code",
   "execution_count": 441,
   "metadata": {},
   "outputs": [],
   "source": [
    "p_threshold = 0.8  # this is the threshold closer to which the exercise will be suggested\n",
    "neg_threshold = 0.2 #negative stop condition\n",
    "pos_threshold = 0.98 #positive stop condition"
   ]
  },
  {
   "cell_type": "code",
   "execution_count": 442,
   "metadata": {},
   "outputs": [],
   "source": [
    "prob_exercises = get_P_value(s,get_asc(21),a_differ,b_difficulty, c_guess)"
   ]
  },
  {
   "cell_type": "code",
   "execution_count": 443,
   "metadata": {},
   "outputs": [],
   "source": [
    "B = np.zeros([n_items,1])   #initially all the items are unblocked\n",
    "B_exercises = prob_exercises #as initially blocking prob is same as p(ij)"
   ]
  },
  {
   "cell_type": "code",
   "execution_count": 444,
   "metadata": {},
   "outputs": [],
   "source": [
    "#this function blocks all the descendant exercises of n\n",
    "def block_dec(relations,B,n):\n",
    "    B[n] = 0\n",
    "    for i in relations:\n",
    "        if(i[1]==n):\n",
    "            if(i[0]>=B.shape[0]):\n",
    "                break\n",
    "            B[i[0]] = 1\n",
    "            B = block_dec(relations,B,i[0])\n",
    "    return B"
   ]
  },
  {
   "cell_type": "code",
   "execution_count": 445,
   "metadata": {},
   "outputs": [],
   "source": [
    "#this function unblocks the just below layer of n\n",
    "def unblock_dec(relations,B,n):\n",
    "    B[n] = 1\n",
    "    for i in relations:\n",
    "        if(i[1]==n):\n",
    "            if(i[0]>=B.shape[0]):\n",
    "                break\n",
    "            B[i[0]] = 0\n",
    "    return B"
   ]
  },
  {
   "cell_type": "code",
   "execution_count": 446,
   "metadata": {},
   "outputs": [],
   "source": [
    "def get_exercise(B_exercises,p_t,neg_t,pos_t,B):\n",
    "    e = -1\n",
    "    for p in range(np.shape(B_exercises)[0]):\n",
    "        if(B_exercises[p]>neg_t and B_exercises[p]<pos_t):\n",
    "            if(e == -1) :\n",
    "                if(B[p]==0) : e = p\n",
    "            else:\n",
    "                if(B[p]==0):\n",
    "                    if(abs(B_exercises[e]-p_t)>abs(B_exercises[p]-p_t)):\n",
    "                        e = p\n",
    "    return e"
   ]
  },
  {
   "cell_type": "code",
   "execution_count": 447,
   "metadata": {},
   "outputs": [
    {
     "name": "stdout",
     "output_type": "stream",
     "text": [
      "Suggested exercise  18\n",
      "Suggested exercise  3\n",
      "Suggested exercise  1\n",
      "Suggested exercise  6\n",
      "Suggested exercise  13\n",
      "Suggested exercise  9\n",
      "Suggested exercise  15\n",
      "Suggested exercise  4\n",
      "Suggested exercise  5\n",
      "Suggested exercise  10\n",
      "Suggested exercise  14\n",
      "Suggested exercise  0\n",
      "Suggested exercise  8\n",
      "Suggested exercise  2\n",
      "Suggested exercise  11\n",
      "Suggested exercise  10\n",
      "Suggested exercise  11\n",
      "Suggested exercise  12\n",
      "Suggested exercise  17\n",
      "Suggested exercise  3\n",
      "Suggested exercise  17\n",
      "Suggested exercise  6\n",
      "Suggested exercise  4\n",
      "Suggested exercise  16\n",
      "Suggested exercise  7\n",
      "Suggested exercise  -1\n"
     ]
    }
   ],
   "source": [
    "exercise_no = get_exercise(B_exercises,p_threshold,neg_threshold, pos_threshold,B)\n",
    "print(\"Suggested exercise \",exercise_no)\n",
    "store = -1\n",
    "while(exercise_no!=-1):\n",
    "    if(store!=-1):\n",
    "        B[store] = 0             #this store variable is used to ensure that the same suggestion is not repeated continuosly \n",
    "    solved = np.random.randint(2) # whether the suggested exercise has been solved by the user (to be taken as input)\n",
    "    if(solved):\n",
    "        B[exercise_no] = -1\n",
    "        B = unblock_dec(relations,B,exercise_no)\n",
    "        B_exercises[exercise_no] = 0\n",
    "    else:\n",
    "        B_exercises[exercise_no] = B_exercises[exercise_no]  + prob_exercises[exercise_no]*(1-B_exercises[exercise_no])\n",
    "        if(B_exercises[exercise_no]>pos_threshold or B_exercises[exercise_no]<neg_threshold):\n",
    "            B[exercise_no] = 1\n",
    "            B = block_dec(relations,B,exercise_no)\n",
    "        else: \n",
    "            store = exercise_no\n",
    "            B[store] = -1\n",
    "    exercise_no = get_exercise(B_exercises,p_threshold,neg_threshold, pos_threshold,B)\n",
    "    print(\"Suggested exercise \",exercise_no)"
   ]
  }
 ],
 "metadata": {
  "kernelspec": {
   "display_name": "Python 3",
   "language": "python",
   "name": "python3"
  },
  "language_info": {
   "codemirror_mode": {
    "name": "ipython",
    "version": 3
   },
   "file_extension": ".py",
   "mimetype": "text/x-python",
   "name": "python",
   "nbconvert_exporter": "python",
   "pygments_lexer": "ipython3",
   "version": "3.7.3"
  }
 },
 "nbformat": 4,
 "nbformat_minor": 2
}
