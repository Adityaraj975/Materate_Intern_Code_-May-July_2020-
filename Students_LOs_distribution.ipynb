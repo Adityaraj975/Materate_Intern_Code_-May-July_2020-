{
 "cells": [
  {
   "cell_type": "code",
   "execution_count": 1,
   "metadata": {},
   "outputs": [],
   "source": [
    "import numpy as np\n",
    "import pandas as pd\n",
    "import os "
   ]
  },
  {
   "cell_type": "code",
   "execution_count": 2,
   "metadata": {},
   "outputs": [],
   "source": [
    "student_marks = pd.read_excel('student_marks.xlsx')\n",
    "question_weight = pd.read_excel('jk.xlsx')"
   ]
  },
  {
   "cell_type": "code",
   "execution_count": 3,
   "metadata": {},
   "outputs": [
    {
     "name": "stderr",
     "output_type": "stream",
     "text": [
      "C:\\Users\\adity\\Anaconda3\\lib\\site-packages\\ipykernel_launcher.py:1: FutureWarning: Method .as_matrix will be removed in a future version. Use .values instead.\n",
      "  \"\"\"Entry point for launching an IPython kernel.\n",
      "C:\\Users\\adity\\Anaconda3\\lib\\site-packages\\ipykernel_launcher.py:2: FutureWarning: Method .as_matrix will be removed in a future version. Use .values instead.\n",
      "  \n"
     ]
    }
   ],
   "source": [
    "student_marks = student_marks.as_matrix()\n",
    "question_skill_weight = question_weight.as_matrix()\n"
   ]
  },
  {
   "cell_type": "code",
   "execution_count": 6,
   "metadata": {},
   "outputs": [],
   "source": [
    "skill_weight_sum = np.sum(question_skill_weight,0)"
   ]
  },
  {
   "cell_type": "code",
   "execution_count": 7,
   "metadata": {},
   "outputs": [
    {
     "data": {
      "text/plain": [
       "array([11.46 , 16.802,  3.2  , 10.536, 12.576,  2.44 ])"
      ]
     },
     "execution_count": 7,
     "metadata": {},
     "output_type": "execute_result"
    }
   ],
   "source": [
    "skill_weight_sum"
   ]
  },
  {
   "cell_type": "code",
   "execution_count": 8,
   "metadata": {},
   "outputs": [],
   "source": [
    "students_skill_result = np.zeros((35,6))"
   ]
  },
  {
   "cell_type": "code",
   "execution_count": 9,
   "metadata": {},
   "outputs": [],
   "source": [
    "for i in range(35) :\n",
    "    students_skill_result[i,:] = np.round(np.dot(student_marks[i],question_skill_weight) / skill_weight_sum, 2 ) ;"
   ]
  },
  {
   "cell_type": "code",
   "execution_count": 16,
   "metadata": {},
   "outputs": [],
   "source": [
    "df = pd.DataFrame(students_skill_result)\n",
    "df.to_excel(\"students_skill_result.xlsx\", index = False)"
   ]
  },
  {
   "cell_type": "code",
   "execution_count": 17,
   "metadata": {},
   "outputs": [
    {
     "data": {
      "text/plain": [
       "array([[0.62, 0.58, 0.65, 0.51, 0.72, 0.71],\n",
       "       [0.71, 0.71, 0.94, 0.74, 0.77, 0.74],\n",
       "       [0.79, 0.76, 0.76, 0.81, 0.79, 0.79],\n",
       "       [0.84, 0.86, 0.76, 0.86, 0.88, 0.87],\n",
       "       [0.81, 0.84, 0.94, 0.84, 0.87, 0.87],\n",
       "       [0.64, 0.67, 0.94, 0.73, 0.71, 0.74],\n",
       "       [0.86, 0.88, 0.94, 0.9 , 0.88, 0.91],\n",
       "       [0.53, 0.47, 0.42, 0.43, 0.48, 0.32],\n",
       "       [0.65, 0.71, 0.61, 0.7 , 0.79, 0.66],\n",
       "       [0.78, 0.72, 0.22, 0.81, 0.69, 0.91],\n",
       "       [0.45, 0.48, 0.6 , 0.49, 0.55, 0.57],\n",
       "       [0.61, 0.59, 0.22, 0.64, 0.56, 0.73],\n",
       "       [0.78, 0.81, 0.94, 0.84, 0.83, 0.86],\n",
       "       [0.83, 0.82, 0.49, 0.87, 0.79, 0.86],\n",
       "       [0.33, 0.34, 0.27, 0.31, 0.3 , 0.26],\n",
       "       [0.42, 0.48, 0.55, 0.42, 0.51, 0.41],\n",
       "       [0.75, 0.77, 0.94, 0.79, 0.81, 0.87],\n",
       "       [0.6 , 0.65, 0.85, 0.63, 0.72, 0.73],\n",
       "       [0.4 , 0.36, 0.39, 0.28, 0.5 , 0.55],\n",
       "       [0.65, 0.7 , 0.76, 0.77, 0.78, 0.87],\n",
       "       [0.77, 0.79, 0.85, 0.83, 0.84, 0.91],\n",
       "       [0.74, 0.76, 0.76, 0.75, 0.82, 0.87],\n",
       "       [0.55, 0.49, 0.69, 0.52, 0.62, 0.74],\n",
       "       [0.81, 0.84, 0.76, 0.83, 0.85, 0.73],\n",
       "       [0.58, 0.58, 0.82, 0.54, 0.71, 0.61],\n",
       "       [0.77, 0.84, 1.  , 0.78, 0.87, 0.69],\n",
       "       [0.69, 0.78, 0.82, 0.78, 0.84, 0.78],\n",
       "       [0.66, 0.73, 0.82, 0.73, 0.8 , 0.73],\n",
       "       [0.82, 0.83, 0.85, 0.85, 0.82, 0.86],\n",
       "       [0.7 , 0.72, 0.66, 0.72, 0.78, 0.66],\n",
       "       [0.77, 0.79, 0.78, 0.79, 0.85, 0.75],\n",
       "       [0.53, 0.59, 0.6 , 0.56, 0.65, 0.55],\n",
       "       [0.92, 0.9 , 0.76, 0.94, 0.9 , 1.  ],\n",
       "       [0.83, 0.78, 0.69, 0.82, 0.77, 0.91],\n",
       "       [0.76, 0.81, 0.85, 0.8 , 0.85, 0.73]])"
      ]
     },
     "execution_count": 17,
     "metadata": {},
     "output_type": "execute_result"
    }
   ],
   "source": [
    "students_skill_result"
   ]
  }
 ],
 "metadata": {
  "kernelspec": {
   "display_name": "Python 3",
   "language": "python",
   "name": "python3"
  },
  "language_info": {
   "codemirror_mode": {
    "name": "ipython",
    "version": 3
   },
   "file_extension": ".py",
   "mimetype": "text/x-python",
   "name": "python",
   "nbconvert_exporter": "python",
   "pygments_lexer": "ipython3",
   "version": "3.7.3"
  }
 },
 "nbformat": 4,
 "nbformat_minor": 2
}
